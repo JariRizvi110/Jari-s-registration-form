{
 "cells": [
  {
   "cell_type": "code",
   "execution_count": null,
   "id": "bc4ecc3f",
   "metadata": {},
   "outputs": [],
   "source": [
    "from tkinter import*\n",
    "\n",
    "root = Tk()\n",
    "\n",
    "root.geometry(\"500x300\")\n",
    "\n",
    "def getvals():\n",
    "    print(\"Accepted\")\n",
    "\n",
    "Label(root, text=\"Registration Form\", font=\"ar 15 bold\").grid(row=0, column=3)\n",
    "\n",
    "fullname = Label(root, text=\"Full Name\")\n",
    "email = Label(root, text=\"Email\")\n",
    "gender = Label(root, text=\"Gender\")\n",
    "country = Label(root, text=\"Country\")\n",
    "programming = Label(root, text=\"Programming\")\n",
    "\n",
    "fullname.grid(row=1, column=2)\n",
    "email.grid(row=2, column=2)\n",
    "gender.grid(row=3, column=2)\n",
    "country.grid(row=4, column=2)\n",
    "programming.grid(row=5, column=2)\n",
    "\n",
    "fullnamevalue = StringVar\n",
    "emailvalue = StringVar\n",
    "gendervalue = StringVar\n",
    "countryvalue = StringVar\n",
    "programmingvalue = StringVar\n",
    "checkvalue = IntVar\n",
    "\n",
    "fullnameentry = Entry(root, textvariable =fullnamevalue)\n",
    "emailentry = Entry(root, textvariable =emailvalue)\n",
    "genderentry = Entry(root, textvariable =gendervalue)\n",
    "countryentry = Entry(root, textvariable =countryvalue)\n",
    "programmingentry = Entry(root, textvariable =programmingvalue)\n",
    "\n",
    "fullnameentry.grid(row=1, column=3)\n",
    "emailentry.grid(row=2, column=3)\n",
    "genderentry.grid(row=3, column=3)\n",
    "countryentry.grid(row=4, column=3)\n",
    "programmingentry.grid(row=5, column=3)\n",
    "\n",
    "Button(text=\"Submit\", command=getvals).grid(row=7, column=3)\n",
    "\n",
    "root.mainloop()"
   ]
  }
 ],
 "metadata": {
  "kernelspec": {
   "display_name": "Python 3 (ipykernel)",
   "language": "python",
   "name": "python3"
  },
  "language_info": {
   "codemirror_mode": {
    "name": "ipython",
    "version": 3
   },
   "file_extension": ".py",
   "mimetype": "text/x-python",
   "name": "python",
   "nbconvert_exporter": "python",
   "pygments_lexer": "ipython3",
   "version": "3.8.7"
  }
 },
 "nbformat": 4,
 "nbformat_minor": 5
}
